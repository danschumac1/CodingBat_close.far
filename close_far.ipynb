{
 "cells": [
  {
   "cell_type": "markdown",
   "id": "affccd72",
   "metadata": {},
   "source": [
    "# Logic-2 > close_far"
   ]
  },
  {
   "cell_type": "markdown",
   "id": "76ed2c20",
   "metadata": {},
   "source": [
    "Given three ints, a b c, return True if one of b or c is \"close\" (differing from a by at most 1), while the other is \"far\", differing from both other values by 2 or more. Note: abs(num) computes the absolute value of a number.\n",
    "\n",
    "\n",
    "close_far(1, 2, 10) → True\n",
    "\n",
    "close_far(1, 2, 3) → False\n",
    "\n",
    "close_far(4, 1, 3) → True"
   ]
  },
  {
   "cell_type": "code",
   "execution_count": 1,
   "id": "a596f7d6",
   "metadata": {},
   "outputs": [],
   "source": [
    "def close_far(a, b, c):\n",
    "  \n",
    "  #assume they fail\n",
    "  far=False\n",
    "  close=False\n",
    "   \n",
    "  if abs(b-a)>abs(c-a):\n",
    "    far_var = b\n",
    "    close_var = c\n",
    "  else:\n",
    "    close_var = b\n",
    "    far_var = c\n",
    "  \n",
    "  if abs(a-close_var)<=1:\n",
    "    close = True\n",
    "  if abs(a-far_var)>=2 and abs(close_var-far_var)>=2:\n",
    "    far = True\n",
    "  \n",
    "  if close == True and far == True:\n",
    "    return True\n",
    "  else:\n",
    "    return False"
   ]
  }
 ],
 "metadata": {
  "kernelspec": {
   "display_name": "Python 3 (ipykernel)",
   "language": "python",
   "name": "python3"
  },
  "language_info": {
   "codemirror_mode": {
    "name": "ipython",
    "version": 3
   },
   "file_extension": ".py",
   "mimetype": "text/x-python",
   "name": "python",
   "nbconvert_exporter": "python",
   "pygments_lexer": "ipython3",
   "version": "3.9.12"
  }
 },
 "nbformat": 4,
 "nbformat_minor": 5
}
